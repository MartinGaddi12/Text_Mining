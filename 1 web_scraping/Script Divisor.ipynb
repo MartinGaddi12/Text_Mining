{
 "cells": [
  {
   "cell_type": "code",
   "execution_count": 1,
   "metadata": {},
   "outputs": [
    {
     "name": "stdout",
     "output_type": "stream",
     "text": [
      "✅ Guardado: drug_links_split/drug_links_Luqui.json (1714 elementos)\n",
      "✅ Guardado: drug_links_split/drug_links_Paul.json (1714 elementos)\n",
      "✅ Guardado: drug_links_split/drug_links_Pedro.json (1714 elementos)\n",
      "✅ Guardado: drug_links_split/drug_links_Nico.json (1714 elementos)\n",
      "✅ Guardado: drug_links_split/drug_links_Marto.json (1714 elementos)\n"
     ]
    }
   ],
   "source": [
    "import json\n",
    "import os\n",
    "import math\n",
    "\n",
    "# Configuración\n",
    "INPUT_JSON = \"drug_links.json\"  # Ruta del archivo original\n",
    "OUTPUT_DIR = \"drug_links_split\"  # Carpeta de salida\n",
    "SUFIXES = [\"_Luqui\", \"_Paul\", \"_Pedro\", \"_Nico\", \"_Marto\"]\n",
    "START_INDEX = 8799  # Desde dónde cortar el JSON original (inclusive)\n",
    "\n",
    "# Crear carpeta de salida\n",
    "os.makedirs(OUTPUT_DIR, exist_ok=True)\n",
    "\n",
    "# Cargar JSON completo\n",
    "with open(INPUT_JSON, \"r\", encoding=\"utf-8\") as f:\n",
    "    full_data = json.load(f)\n",
    "\n",
    "# Filtrar parte no procesada\n",
    "pending_data = full_data[START_INDEX:]\n",
    "chunk_size = math.ceil(len(pending_data) / len(SUFIXES))\n",
    "\n",
    "# Dividir y guardar en archivos\n",
    "for i, suffix in enumerate(SUFIXES):\n",
    "    chunk = pending_data[i * chunk_size:(i + 1) * chunk_size]\n",
    "    output_file = f\"{OUTPUT_DIR}/drug_links{suffix}.json\"\n",
    "    with open(output_file, \"w\", encoding=\"utf-8\") as f:\n",
    "        json.dump(chunk, f, ensure_ascii=False, indent=2)\n",
    "    print(f\"✅ Guardado: {output_file} ({len(chunk)} elementos)\")\n"
   ]
  },
  {
   "cell_type": "code",
   "execution_count": 2,
   "metadata": {},
   "outputs": [
    {
     "name": "stdout",
     "output_type": "stream",
     "text": [
      "✅ Las 30 drogas con timeout fueron añadidas al final del archivo de Marto.\n"
     ]
    }
   ],
   "source": [
    "import json\n",
    "\n",
    "errores = [\n",
    "    # 🔴 Errores 1: Desoximetasone y Despec\n",
    "    {\"drug_name\": \"Desoximetasone Cream\", \"url\": \"https://www.drugs.com/pro/desoximetasone-cream.html\"},\n",
    "    {\"drug_name\": \"Desoximetasone Gel\", \"url\": \"https://www.drugs.com/pro/desoximetasone-gel.html\"},\n",
    "    {\"drug_name\": \"Desoximetasone Ointment\", \"url\": \"https://www.drugs.com/pro/desoximetasone-ointment.html\"},\n",
    "    {\"drug_name\": \"Desoximetasone topical\", \"url\": \"https://www.drugs.com/mtm/desoximetasone-topical.html\"},\n",
    "    {\"drug_name\": \"Desoximetasone Topical Spray\", \"url\": \"https://www.drugs.com/pro/desoximetasone-topical-spray.html\"},\n",
    "    {\"drug_name\": \"Desoxyn\", \"url\": \"https://www.drugs.com/mtm/desoxyn.html\"},\n",
    "    {\"drug_name\": \"Despec\", \"url\": \"https://www.drugs.com/mtm/despec.html\"},\n",
    "    {\"drug_name\": \"Despec DM\", \"url\": \"https://www.drugs.com/mtm/despec-dm.html\"},\n",
    "    {\"drug_name\": \"Despec Drops\", \"url\": \"https://www.drugs.com/mtm/despec-drops.html\"},\n",
    "    {\"drug_name\": \"Despec-SR\", \"url\": \"https://www.drugs.com/mtm/despec-sr.html\"},\n",
    "\n",
    "    # 🔴 Errores 2: Demerol, Denavir, Dengue, etc.\n",
    "    {\"drug_name\": \"Demerol (Meperidine Oral)\", \"url\": \"https://www.drugs.com/cons/demerol-meperidine-oral.html\"},\n",
    "    {\"drug_name\": \"Demerol Injection\", \"url\": \"https://www.drugs.com/pro/demerol-injection.html\"},\n",
    "    {\"drug_name\": \"Demser\", \"url\": \"https://www.drugs.com/mtm/demser.html\"},\n",
    "    {\"drug_name\": \"Demulen 1/35\", \"url\": \"https://www.drugs.com/cons/demulen-1-35.html\"},\n",
    "    {\"drug_name\": \"Demulen 1/50\", \"url\": \"https://www.drugs.com/cons/demulen-1-50.html\"},\n",
    "    {\"drug_name\": \"Denatured Alcohol\", \"url\": \"https://www.drugs.com/mtm/denatured-alcohol.html\"},\n",
    "    {\"drug_name\": \"Denavir\", \"url\": \"https://www.drugs.com/denavir.html\"},\n",
    "    {\"drug_name\": \"Dengue tetravalent vaccine, live\", \"url\": \"https://www.drugs.com/cons/dengue-tetravalent-vaccine-live.html\"},\n",
    "    {\"drug_name\": \"Dengue vaccine\", \"url\": \"https://www.drugs.com/mtm/dengue-vaccine.html\"},\n",
    "    {\"drug_name\": \"Dengue Vaccine Live\", \"url\": \"https://www.drugs.com/monograph/dengue-vaccine-live.html\"},\n",
    "\n",
    "    # 🔴 Errores 3: Arformoterol, Argania, Aricept, Aridol, Arimoclomol\n",
    "    {\"drug_name\": \"Arformoterol inhalation\", \"url\": \"https://www.drugs.com/mtm/arformoterol-inhalation.html\"},\n",
    "    {\"drug_name\": \"Arformoterol Inhalation Solution\", \"url\": \"https://www.drugs.com/pro/arformoterol-inhalation-solution.html\"},\n",
    "    {\"drug_name\": \"Argania\", \"url\": \"https://www.drugs.com/npp/argania.html\"},\n",
    "    {\"drug_name\": \"Argatroban\", \"url\": \"https://www.drugs.com/mtm/argatroban.html\"},\n",
    "    {\"drug_name\": \"Arginine\", \"url\": \"https://www.drugs.com/cons/arginine.html\"},\n",
    "    {\"drug_name\": \"Aricept Oral Solution\", \"url\": \"https://www.drugs.com/pro/aricept-oral-solution.html\"},\n",
    "    {\"drug_name\": \"Aricept Tablets\", \"url\": \"https://www.drugs.com/pro/aricept-tablets.html\"},\n",
    "    {\"drug_name\": \"Aridol\", \"url\": \"https://www.drugs.com/aridol.html\"},\n",
    "    {\"drug_name\": \"Aridol Bronchial Challenge Test Kit\", \"url\": \"https://www.drugs.com/pro/aridol-bronchial-challenge-test-kit.html\"},\n",
    "    {\"drug_name\": \"Arimoclomol\", \"url\": \"https://www.drugs.com/mtm/arimoclomol.html\"}\n",
    "]\n",
    "\n",
    "# Ruta al archivo de Marto\n",
    "ruta_marto = \"drug_links_split/drug_links_Marto.json\"\n",
    "\n",
    "# Leer archivo\n",
    "with open(ruta_marto, \"r\", encoding=\"utf-8\") as f:\n",
    "    marto_data = json.load(f)\n",
    "\n",
    "# Agregar errores\n",
    "marto_data.extend(errores)\n",
    "\n",
    "# Guardar nuevamente\n",
    "with open(ruta_marto, \"w\", encoding=\"utf-8\") as f:\n",
    "    json.dump(marto_data, f, ensure_ascii=False, indent=2)\n",
    "\n",
    "print(\"✅ Las 30 drogas con timeout fueron añadidas al final del archivo de Marto.\")\n"
   ]
  }
 ],
 "metadata": {
  "kernelspec": {
   "display_name": "Python 3",
   "language": "python",
   "name": "python3"
  },
  "language_info": {
   "codemirror_mode": {
    "name": "ipython",
    "version": 3
   },
   "file_extension": ".py",
   "mimetype": "text/x-python",
   "name": "python",
   "nbconvert_exporter": "python",
   "pygments_lexer": "ipython3",
   "version": "3.8.5"
  }
 },
 "nbformat": 4,
 "nbformat_minor": 4
}
