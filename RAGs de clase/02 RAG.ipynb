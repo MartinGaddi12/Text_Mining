{
 "cells": [
  {
   "cell_type": "markdown",
   "id": "5a7ff541",
   "metadata": {},
   "source": [
    "<a id = \"1.0\"></a>\n",
    "<p style=\"font-size:15px;color:#34656d;font-family:'Comic Sans MS';text-align:right;border-radius:5px 5px;\">\n",
    "    <i>Aprender una técnica no es un fin en si mismo, simplemente indica por donde hay que empezar</i><br><b>Proverbio Japonés</b></p> "
   ]
  },
  {
   "cell_type": "markdown",
   "id": "49a7c8f7",
   "metadata": {},
   "source": [
    "<a id = \"1.0\"></a>\n",
    "<p style=\"font-size:15px;color:#34656d;font-family:'Comic Sans MS';text-align:right;border-radius:5px 5px;\">\n",
    "<i>Material curado y organizado por el Prof. Dr. Hernán D. Merlino</i><br> \n",
    "<i>Retrieval Augmented Generation (RAG)  Versión 2.0 - 2025 Q1</i></p> "
   ]
  },
  {
   "cell_type": "markdown",
   "id": "b21b3b37",
   "metadata": {},
   "source": [
    "<a id = \"1.0\"></a>\n",
    "<p style=\"font-size:15px;color:#34656d;font-family:'Comic Sans MS';text-align:center;border-radius:5px 5px;\">\n",
    "<strong>_____________________________________________________________</strong></p> "
   ]
  },
  {
   "cell_type": "markdown",
   "id": "a297b2bd",
   "metadata": {},
   "source": [
    "<a id = \"1.0\"></a>\n",
    "<p style=\"font-size:15px;color:#34656d;font-family:'Comic Sans MS';text-align:left;border-radius:5px 5px;\">\n",
    "<strong>Cargar librerías</strong></p> "
   ]
  },
  {
   "cell_type": "code",
   "execution_count": 1,
   "id": "ec07e656",
   "metadata": {},
   "outputs": [],
   "source": [
    "import warnings\n",
    "warnings.filterwarnings(\"ignore\")"
   ]
  },
  {
   "cell_type": "code",
   "execution_count": 11,
   "id": "2096bc5f",
   "metadata": {},
   "outputs": [],
   "source": [
    "import numpy as np "
   ]
  },
  {
   "cell_type": "markdown",
   "id": "b099b957",
   "metadata": {},
   "source": [
    "<p style=\"font-size:15px;color:#34656d;font-family:'Comic Sans MS';text-align:left;border-radius:5px 5px;\">\n",
    "faiss-cpu: Biblioteca para búsqueda eficiente de similitud en vectores<BR>\n",
    "<a href=\"https://github.com/facebookresearch/faiss?tab=readme-ov-file\" target=\\\"_blank\\\">Faiss</a></p>"
   ]
  },
  {
   "cell_type": "code",
   "execution_count": 12,
   "id": "47e697ec",
   "metadata": {},
   "outputs": [],
   "source": [
    "#Solo se ejecuta la primera vez para instalar la libreria\n",
    "#!pip install faiss-cpu"
   ]
  },
  {
   "cell_type": "code",
   "execution_count": 13,
   "id": "d93304c1",
   "metadata": {},
   "outputs": [],
   "source": [
    "import faiss"
   ]
  },
  {
   "cell_type": "code",
   "execution_count": 14,
   "id": "9c071bb1",
   "metadata": {},
   "outputs": [],
   "source": [
    "#Solo se ejecuta la primera vez para instalar la libreria\n",
    "#!pip install sentence-transformers"
   ]
  },
  {
   "cell_type": "markdown",
   "id": "e5bf0a6f",
   "metadata": {},
   "source": [
    "<p style=\"font-size:15px;color:#34656d;font-family:'Comic Sans MS';text-align:left;border-radius:5px 5px;\">\n",
    "sentence_transformers: Biblioteca para búsqueda eficiente de similitud en vectores<BR>\n",
    "<a href=\"https://www.sbert.net/\" target=\\\"_blank\\\">SentenceTransformers Documentation</a></p>"
   ]
  },
  {
   "cell_type": "code",
   "execution_count": 15,
   "id": "2a708d1a",
   "metadata": {},
   "outputs": [],
   "source": [
    "from sentence_transformers import SentenceTransformer"
   ]
  },
  {
   "cell_type": "code",
   "execution_count": 16,
   "id": "9a74046c",
   "metadata": {},
   "outputs": [],
   "source": [
    "documents = [\n",
    "    \"La inteligencia artificial es una rama de la informática.\",\n",
    "    \"Python es un lenguaje de programación muy popular.\",\n",
    "    \"El machine learning permite que las computadoras aprendan.\",\n",
    "    \"Los modelos de lenguaje pueden generar texto automáticamente.\"\n",
    "]"
   ]
  },
  {
   "cell_type": "markdown",
   "id": "44030204",
   "metadata": {},
   "source": [
    "<p style=\"font-size:15px;color:#34656d;font-family:'Comic Sans MS';text-align:left;border-radius:5px 5px;\">\n",
    "Cargar modelo de embeddings - 384 dimensiones</p>"
   ]
  },
  {
   "cell_type": "code",
   "execution_count": 4,
   "id": "400a5d65",
   "metadata": {},
   "outputs": [],
   "source": [
    "model = SentenceTransformer('all-MiniLM-L6-v2')  \n",
    "dimension = 384 "
   ]
  },
  {
   "cell_type": "markdown",
   "id": "0276dd6c",
   "metadata": {},
   "source": [
    "<p style=\"font-size:15px;color:#34656d;font-family:'Comic Sans MS';text-align:left;border-radius:5px 5px;\">\n",
    "<a href=\"https://huggingface.co/sentence-transformers/all-MiniLM-L6-v2\" target=\\\"_blank\\\">all-MiniLM-L6-v2</a></p>"
   ]
  },
  {
   "cell_type": "markdown",
   "id": "36c11ab2",
   "metadata": {},
   "source": [
    "<p style=\"font-size:15px;color:#34656d;font-family:'Comic Sans MS';text-align:left;border-radius:5px 5px;\">\n",
    "Crear índice FAISS</p>"
   ]
  },
  {
   "cell_type": "code",
   "execution_count": 5,
   "id": "a9416bc6",
   "metadata": {},
   "outputs": [],
   "source": [
    "index = faiss.IndexFlatL2(dimension)"
   ]
  },
  {
   "cell_type": "code",
   "execution_count": 6,
   "id": "482e1872",
   "metadata": {},
   "outputs": [],
   "source": [
    "doc_embeddings = model.encode(documents) \n",
    "index.add(np.array(doc_embeddings, dtype='float32'))"
   ]
  },
  {
   "cell_type": "markdown",
   "id": "02617bc4",
   "metadata": {},
   "source": [
    "<p style=\"font-size:15px;color:#34656d;font-family:'Comic Sans MS';text-align:left;border-radius:5px 5px;\">\n",
    "Generar embedding para la pregunta</p>"
   ]
  },
  {
   "cell_type": "code",
   "execution_count": 7,
   "id": "54fbb89d",
   "metadata": {},
   "outputs": [],
   "source": [
    "question = \"Cuál es el texto más relevante?\"\n",
    "question_embedding = model.encode([question])[0]\n",
    "question_embedding = np.array(question_embedding, dtype='float32').reshape(1, -1)"
   ]
  },
  {
   "cell_type": "markdown",
   "id": "a63b7738",
   "metadata": {},
   "source": [
    "<p style=\"font-size:15px;color:#34656d;font-family:'Comic Sans MS';text-align:left;border-radius:5px 5px;\">\n",
    "Verificar estrucutras deberian serian iguales, en este caso 384</p>"
   ]
  },
  {
   "cell_type": "code",
   "execution_count": 8,
   "id": "84ad41f1",
   "metadata": {},
   "outputs": [
    {
     "name": "stdout",
     "output_type": "stream",
     "text": [
      "Forma de question_embedding: (1, 384)\n",
      "Dimensión del índice: 384\n"
     ]
    }
   ],
   "source": [
    "print(\"Forma de question_embedding:\", question_embedding.shape)\n",
    "print(\"Dimensión del índice:\", index.d) "
   ]
  },
  {
   "cell_type": "markdown",
   "id": "627b00a1",
   "metadata": {},
   "source": [
    "<p style=\"font-size:15px;color:#34656d;font-family:'Comic Sans MS';text-align:left;border-radius:5px 5px;\">\n",
    "Realizar la búsqueda</p>"
   ]
  },
  {
   "cell_type": "code",
   "execution_count": 9,
   "id": "c9246a78",
   "metadata": {},
   "outputs": [],
   "source": [
    "k = 2\n",
    "distances, indices = index.search(question_embedding, k)"
   ]
  },
  {
   "cell_type": "code",
   "execution_count": 10,
   "id": "6675b3b1",
   "metadata": {},
   "outputs": [
    {
     "name": "stdout",
     "output_type": "stream",
     "text": [
      "Distancias: [[1.017153  1.1300619]]\n",
      "Índices: [[0 3]]\n",
      "Documentos recuperados: ['La inteligencia artificial es una rama de la informática.', 'Los modelos de lenguaje pueden generar texto automáticamente.']\n"
     ]
    }
   ],
   "source": [
    "print(\"Distancias:\", distances)\n",
    "print(\"Índices:\", indices)\n",
    "retrieved_docs = [documents[i] for i in indices[0]]\n",
    "print(\"Documentos recuperados:\", retrieved_docs)"
   ]
  },
  {
   "cell_type": "markdown",
   "id": "85e9c417",
   "metadata": {},
   "source": [
    "<a id = \"1.0\"></a>\n",
    "<p style=\"font-size:15px;color:#34656d;font-family:'Comic Sans MS';text-align:center;border-radius:5px 5px;\">\n",
    "<strong>_____________________________________________________________</strong></p> "
   ]
  },
  {
   "cell_type": "markdown",
   "id": "c928580e",
   "metadata": {},
   "source": [
    "<a id = \"1.0\"></a>\n",
    "<p style=\"font-size:15px;color:#34656d;font-family:'Comic Sans MS';text-align:center;border-radius:5px 5px;\">\n",
    "<strong>_____________________________________________________________</strong></p> "
   ]
  }
 ],
 "metadata": {
  "kernelspec": {
   "display_name": "rag",
   "language": "python",
   "name": "rag"
  },
  "language_info": {
   "codemirror_mode": {
    "name": "ipython",
    "version": 3
   },
   "file_extension": ".py",
   "mimetype": "text/x-python",
   "name": "python",
   "nbconvert_exporter": "python",
   "pygments_lexer": "ipython3",
   "version": "3.9.15"
  }
 },
 "nbformat": 4,
 "nbformat_minor": 5
}
