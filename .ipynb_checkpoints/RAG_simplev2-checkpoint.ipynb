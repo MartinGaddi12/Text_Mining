{
 "cells": [
  {
   "cell_type": "code",
   "execution_count": 1,
   "metadata": {},
   "outputs": [],
   "source": [
    "import json\n",
    "\n",
    "with open(\"drogas_texto.json\", \"r\", encoding=\"utf-8\") as f:\n",
    "    drogas = json.load(f)\n",
    "\n",
    "# Tomamos las primeras 10 con texto no vacío\n",
    "documentos_drogas = [d[\"text\"] for d in drogas if d.get(\"text\", \"\").strip()][:10]\n"
   ]
  },
  {
   "cell_type": "code",
   "execution_count": 45,
   "metadata": {},
   "outputs": [],
   "source": [
    "#Necesitamos limpieza. Pruebo algo antes de aplicarselo al JSON\n",
    "import re\n",
    "import wordninja\n",
    "\n",
    "def clean_text_basic(raw_text):\n",
    "    # Reemplaza \\n y \\r explícitamente por espacio\n",
    "    text = raw_text.replace(\"\\\\n\", \" \").replace(\"\\n\", \" \").replace(\"\\r\", \" \")\n",
    "    \n",
    "    # Reemplaza caracteres no imprimibles por espacio\n",
    "    text = re.sub(r'[\\x00-\\x1F\\x7F]', ' ', text)\n",
    "    \n",
    "    # Reemplaza múltiples espacios o tabs por uno solo\n",
    "    text = re.sub(r'[ \\t]+', ' ', text)\n",
    "    \n",
    "    # Añade espacio después de ';' si falta\n",
    "    text = re.sub(r';([^\\s])', r'; \\1', text)\n",
    "    \n",
    "    # Añade puntos después de palabras clave para mejorar estructura\n",
    "    keywords = ['Uses', 'Side effects', 'Warnings', 'Dosage', 'Interactions', 'What is', 'Introduction', 'Stop using']\n",
    "    for kw in keywords:\n",
    "        text = re.sub(rf'({kw})([A-Z])', rf'\\1. \\2', text)\n",
    "    \n",
    "    # Limpieza final de espacios\n",
    "    text = re.sub(r'\\s+', ' ', text).strip()\n",
    "    \n",
    "    return text\n",
    "\n",
    "\n",
    "def split_concatenated_words(text):\n",
    "    words = text.split()\n",
    "    split_words = []\n",
    "    for w in words:\n",
    "        # Si palabra larga (>12 caracteres) y no todo mayúsculas, intenta separarla\n",
    "        if len(w) > 12 and not w.isupper():\n",
    "            split_words.extend(wordninja.split(w))\n",
    "        else:\n",
    "            split_words.append(w)\n",
    "    return ' '.join(split_words)\n",
    "\n",
    "def clean_text_full(raw_text):\n",
    "    text = clean_text_basic(raw_text)\n",
    "    text = split_concatenated_words(text)\n",
    "    return text\n"
   ]
  },
  {
   "cell_type": "code",
   "execution_count": 46,
   "metadata": {},
   "outputs": [],
   "source": [
    "documentos_drogas_clean = [clean_text_full(doc) for doc in documentos_drogas]"
   ]
  },
  {
   "cell_type": "code",
   "execution_count": 47,
   "metadata": {},
   "outputs": [],
   "source": [
    "from sklearn.feature_extraction.text import TfidfVectorizer\n",
    "from sklearn.metrics.pairwise import cosine_similarity\n",
    "\n",
    "vectorizer = TfidfVectorizer()\n",
    "doc_vectors = vectorizer.fit_transform(documentos_drogas_clean)\n"
   ]
  },
  {
   "cell_type": "code",
   "execution_count": 24,
   "metadata": {},
   "outputs": [],
   "source": [
    "#pip install transformers\n",
    "#!pip install torch\n",
    "#!pip install wordninja\n",
    "#import torch\n",
    "#print(torch.__version__)\n",
    "#print(torch.cuda.is_available())\n",
    "\n",
    "#x = torch.rand(3, 3)\n",
    "#print(x)\n"
   ]
  },
  {
   "cell_type": "code",
   "execution_count": 44,
   "metadata": {},
   "outputs": [
    {
     "name": "stderr",
     "output_type": "stream",
     "text": [
      "Device set to use cpu\n"
     ]
    }
   ],
   "source": [
    "from transformers import pipeline\n",
    "\n",
    "generator = pipeline(\"text-generation\",model=\"distilgpt2\")\n",
    "\n"
   ]
  },
  {
   "cell_type": "code",
   "execution_count": 48,
   "metadata": {},
   "outputs": [],
   "source": [
    "def retrieve_document(query, vectorizer, doc_vectors, documentos):\n",
    "    query_vector = vectorizer.transform([query])\n",
    "    similarities = cosine_similarity(query_vector, doc_vectors)\n",
    "    most_similar_idx = similarities.argmax()\n",
    "    return documentos[most_similar_idx]\n",
    "\n",
    "# Ejemplo con un generador de HuggingFace (cambiar por el tuyo si usás otro)\n",
    "def rag_example(query):\n",
    "    document = retrieve_document(query, vectorizer, doc_vectors, documentos_drogas_clean)\n",
    "    prompt = (\n",
    "        f\"Context: {document}\\n\\n\"\n",
    "        f\"Question: {query}\\n\"\n",
    "        f\"Answer concisely in one or two sentences.\\n\"\n",
    "        f\"Answer:\"\n",
    "    )\n",
    "    answer = generator(\n",
    "    prompt,\n",
    "    max_length=60,  # acortar la salida\n",
    "    num_return_sequences=1,\n",
    "    temperature=0.7,  # bajar temperatura para menos aleatoriedad\n",
    "    top_k=30,\n",
    "    top_p=0.85,\n",
    "    repetition_penalty=1.2  # penaliza repetir frases\n",
    ")\n",
    "\n",
    "    # Eliminar el prompt de la salida (que a veces aparece al principio)\n",
    "    generated_text = answer[0][\"generated_text\"]\n",
    "    # Quitar el prompt para quedarse solo con la respuesta\n",
    "    response = generated_text.split(\"Answer:\")[-1].strip()\n",
    "    return response\n",
    "\n"
   ]
  },
  {
   "cell_type": "code",
   "execution_count": 52,
   "metadata": {},
   "outputs": [
    {
     "name": "stderr",
     "output_type": "stream",
     "text": [
      "Setting `pad_token_id` to `eos_token_id`:50256 for open-end generation.\n",
      "Both `max_new_tokens` (=256) and `max_length`(=60) seem to have been set. `max_new_tokens` will take precedence. Please refer to the documentation for more information. (https://huggingface.co/docs/transformers/main/en/main_classes/text_generation)\n"
     ]
    },
    {
     "data": {
      "text/plain": [
       "''"
      ]
     },
     "execution_count": 52,
     "metadata": {},
     "output_type": "execute_result"
    }
   ],
   "source": [
    "query = \"What is Abacavir?\"\n",
    "rag_example(query)\n"
   ]
  },
  {
   "cell_type": "code",
   "execution_count": 50,
   "metadata": {},
   "outputs": [
    {
     "name": "stderr",
     "output_type": "stream",
     "text": [
      "Setting `pad_token_id` to `eos_token_id`:50256 for open-end generation.\n",
      "Both `max_new_tokens` (=256) and `max_length`(=60) seem to have been set. `max_new_tokens` will take precedence. Please refer to the documentation for more information. (https://huggingface.co/docs/transformers/main/en/main_classes/text_generation)\n"
     ]
    },
    {
     "data": {
      "text/plain": [
       "''"
      ]
     },
     "execution_count": 50,
     "metadata": {},
     "output_type": "execute_result"
    }
   ],
   "source": [
    "query = \"Is Abacavir OK for pregnant people?\"\n",
    "rag_example(query)"
   ]
  },
  {
   "cell_type": "code",
   "execution_count": 57,
   "metadata": {},
   "outputs": [
    {
     "name": "stderr",
     "output_type": "stream",
     "text": [
      "Device set to use cpu\n",
      "Truncation was not explicitly activated but `max_length` is provided a specific value, please use `truncation=True` to explicitly truncate examples to max length. Defaulting to 'longest_first' truncation strategy. If you encode pairs of sequences (GLUE-style) with the tokenizer you can select this strategy more precisely by providing a specific strategy to `truncation`.\n",
      "Setting `pad_token_id` to `eos_token_id`:50256 for open-end generation.\n",
      "Both `max_new_tokens` (=256) and `max_length`(=100) seem to have been set. `max_new_tokens` will take precedence. Please refer to the documentation for more information. (https://huggingface.co/docs/transformers/main/en/main_classes/text_generation)\n"
     ]
    },
    {
     "name": "stdout",
     "output_type": "stream",
     "text": [
      "🧠 Respuesta:\n",
      " Drug is a safe and affordable drug that is effective for treatment of a serious condition with severe side effects that include nausea, vomiting, and nausea. This new drug is expected to be available for the first time in the United States. In the United States, the U.S. Food and Drug Administration has approved a Phase III trial of NRTIs that is designed to improve safety and effectiveness of the drug. The FDA has approved Phase III clinical trials in several countries, including the United States.The US Food and Drug Administration's approval of a Phase III trial for NRTIs is in the works, and this clinical trial is expected to be of the highest quality in the United States. The NRTIs have demonstrated long-term safety and benefits in these clinical trials. In addition, the NRTIs are safe, safe and effective for treatment of a major group of the conditions known as chronic conditions such as cardiovascular disease, stroke, cardiovascular disease, and multiple sclerosis.The use of this new drug is not limited to the United States. In addition, this drug is not subject to FDA approval and may not be registered in the United States.\n"
     ]
    }
   ],
   "source": [
    "#Pruebo a ver qué pasó\n",
    "def retrieve_document(query, vectorizer, doc_vectors, documents):\n",
    "    query_vector = vectorizer.transform([query])\n",
    "    similarities = cosine_similarity(query_vector, doc_vectors)\n",
    "    idx = similarities.argmax()\n",
    "    return documents[idx]\n",
    "\n",
    "# RAG: generación\n",
    "generator = pipeline(\"text-generation\", model=\"distilgpt2\")\n",
    "\n",
    "def rag_example(query):\n",
    "    doc = retrieve_document(query, vectorizer, doc_vectors, documentos_drogas_clean)\n",
    "    prompt = f\"Context: {doc}\\n\\nQuestion: {query}\\nAnswer:\"\n",
    "    answer = generator(prompt, max_length=100, do_sample=True, temperature=0.8)[0][\"generated_text\"]\n",
    "    response = answer.split(\"Answer:\")[-1].strip()\n",
    "    return response\n",
    "\n",
    "# Test\n",
    "query = \"What is Abacavir?\"\n",
    "respuesta = rag_example(query)\n",
    "print(\"🧠 Respuesta:\\n\", respuesta)"
   ]
  },
  {
   "cell_type": "code",
   "execution_count": 58,
   "metadata": {},
   "outputs": [
    {
     "name": "stderr",
     "output_type": "stream",
     "text": [
      "Setting `pad_token_id` to `eos_token_id`:50256 for open-end generation.\n",
      "Both `max_new_tokens` (=256) and `max_length`(=100) seem to have been set. `max_new_tokens` will take precedence. Please refer to the documentation for more information. (https://huggingface.co/docs/transformers/main/en/main_classes/text_generation)\n"
     ]
    },
    {
     "data": {
      "text/plain": [
       "'Injector:Oxycycline (Oxycycline) is a low-fat, no-vitamin (Oxycycline) drug that is high in calcium. It contains a low-fat, no-vitamin (Oxycycline) (Oxycycline) (Oxycycline) (Oxycycline) (Oxycycline) (Oxycycline) (Oxycycline) (Oxycycline) It is available for non-medical use by the person with whom it should be used for a prescription, if necessary, and in small doses for non-medical uses in the United States. The drug is formulated to work with known side effects such as kidney stones, kidney stones, and kidney stones.[11] In its most recent form, Oxycycline is manufactured in a blend of C, A, B, C, and C, and is available in the United States (as a prescription only).[12] Oxycycline is used in many other forms, including birth control, prescription drugs, and prescription drugs.[13] It is also formulated with a high-butyric acid content and has a low-protein component, and is less than 3 times the amount of the plant'"
      ]
     },
     "execution_count": 58,
     "metadata": {},
     "output_type": "execute_result"
    }
   ],
   "source": [
    "rag_example(\"Is Abacavir good when pregnant?\")\n"
   ]
  },
  {
   "cell_type": "code",
   "execution_count": 59,
   "metadata": {},
   "outputs": [],
   "source": [
    "#Conclusion: Hay que laburar el texto, para separarle las partes (Ver los títulos, y generar cortes con eso).\n",
    "#Imagino hacer splits en el json por what is ..., Warnings..., side effects..., Uses..., Before taking this medicine..., How should I use...., dosing..., What happens if..., "
   ]
  }
 ],
 "metadata": {
  "kernelspec": {
   "display_name": "Python (RAG)",
   "language": "python",
   "name": "rag_env"
  },
  "language_info": {
   "codemirror_mode": {
    "name": "ipython",
    "version": 3
   },
   "file_extension": ".py",
   "mimetype": "text/x-python",
   "name": "python",
   "nbconvert_exporter": "python",
   "pygments_lexer": "ipython3",
   "version": "3.10.18"
  }
 },
 "nbformat": 4,
 "nbformat_minor": 4
}
